{
 "cells": [
  {
   "cell_type": "code",
   "execution_count": 1,
   "metadata": {},
   "outputs": [],
   "source": [
    "from util import *\n",
    "\n",
    "import pandas as pd\n",
    "import numpy as np\n",
    "import matplotlib.pyplot as plt\n",
    "import seaborn as sns\n",
    "%matplotlib inline\n",
    "\n",
    "\n",
    "from sklearn.model_selection import train_test_split\n",
    "from sklearn.linear_model import LogisticRegression\n",
    "from sklearn.metrics import confusion_matrix, accuracy_score, f1_score, roc_curve\n",
    "from sklearn.preprocessing import StandardScaler\n",
    "\n",
    "import warnings\n",
    "warnings.simplefilter(action='ignore', category=[FutureWarning])"
   ]
  },
  {
   "cell_type": "markdown",
   "metadata": {},
   "source": [
    "# Retrieve cleaned data and Scale values"
   ]
  },
  {
   "cell_type": "code",
   "execution_count": 2,
   "metadata": {},
   "outputs": [],
   "source": [
    "rawtest = pd.read_csv('./data/test.csv')\n",
    "datatrain = pd.read_csv('cl_train.csv')\n",
    "datatest = pd.read_csv('cl_test.csv')"
   ]
  },
  {
   "cell_type": "code",
   "execution_count": 116,
   "metadata": {},
   "outputs": [],
   "source": [
    "X = datatrain.drop(columns=['Survived', 'PassengerId'])\n",
    "Y = datatrain['Survived']\n",
    "Xt = datatest.drop(columns=['PassengerId'])\n",
    "\n",
    "scaler = StandardScaler()\n",
    "X_scaled = scaler.fit_transform(X)\n",
    "Xt_scaled = scaler.fit_transform(Xt)"
   ]
  },
  {
   "cell_type": "code",
   "execution_count": 4,
   "metadata": {},
   "outputs": [
    {
     "data": {
      "text/plain": [
       "((891, 12), (418, 12), (891,))"
      ]
     },
     "execution_count": 4,
     "metadata": {},
     "output_type": "execute_result"
    }
   ],
   "source": [
    "X.shape, Xt.shape, Y.shape"
   ]
  },
  {
   "cell_type": "code",
   "execution_count": 5,
   "metadata": {},
   "outputs": [
    {
     "data": {
      "text/html": [
       "<div>\n",
       "<style scoped>\n",
       "    .dataframe tbody tr th:only-of-type {\n",
       "        vertical-align: middle;\n",
       "    }\n",
       "\n",
       "    .dataframe tbody tr th {\n",
       "        vertical-align: top;\n",
       "    }\n",
       "\n",
       "    .dataframe thead th {\n",
       "        text-align: right;\n",
       "    }\n",
       "</style>\n",
       "<table border=\"1\" class=\"dataframe\">\n",
       "  <thead>\n",
       "    <tr style=\"text-align: right;\">\n",
       "      <th></th>\n",
       "      <th>Age</th>\n",
       "      <th>Embarked</th>\n",
       "      <th>Fare</th>\n",
       "      <th>Parch</th>\n",
       "      <th>Pclass</th>\n",
       "      <th>Sex_code</th>\n",
       "      <th>SibSp</th>\n",
       "      <th>FamilySize</th>\n",
       "      <th>Mr</th>\n",
       "      <th>Miss</th>\n",
       "      <th>Mrs</th>\n",
       "      <th>Master</th>\n",
       "    </tr>\n",
       "  </thead>\n",
       "  <tbody>\n",
       "    <tr>\n",
       "      <th>0</th>\n",
       "      <td>22.0</td>\n",
       "      <td>2</td>\n",
       "      <td>7.2500</td>\n",
       "      <td>0</td>\n",
       "      <td>3</td>\n",
       "      <td>1</td>\n",
       "      <td>1</td>\n",
       "      <td>1</td>\n",
       "      <td>1</td>\n",
       "      <td>0</td>\n",
       "      <td>0</td>\n",
       "      <td>0</td>\n",
       "    </tr>\n",
       "    <tr>\n",
       "      <th>1</th>\n",
       "      <td>38.0</td>\n",
       "      <td>0</td>\n",
       "      <td>71.2833</td>\n",
       "      <td>0</td>\n",
       "      <td>1</td>\n",
       "      <td>0</td>\n",
       "      <td>1</td>\n",
       "      <td>1</td>\n",
       "      <td>0</td>\n",
       "      <td>0</td>\n",
       "      <td>1</td>\n",
       "      <td>0</td>\n",
       "    </tr>\n",
       "    <tr>\n",
       "      <th>2</th>\n",
       "      <td>26.0</td>\n",
       "      <td>2</td>\n",
       "      <td>7.9250</td>\n",
       "      <td>0</td>\n",
       "      <td>3</td>\n",
       "      <td>0</td>\n",
       "      <td>0</td>\n",
       "      <td>0</td>\n",
       "      <td>0</td>\n",
       "      <td>1</td>\n",
       "      <td>0</td>\n",
       "      <td>0</td>\n",
       "    </tr>\n",
       "  </tbody>\n",
       "</table>\n",
       "</div>"
      ],
      "text/plain": [
       "    Age  Embarked     Fare  Parch  Pclass  Sex_code  SibSp  FamilySize  Mr  \\\n",
       "0  22.0         2   7.2500      0       3         1      1           1   1   \n",
       "1  38.0         0  71.2833      0       1         0      1           1   0   \n",
       "2  26.0         2   7.9250      0       3         0      0           0   0   \n",
       "\n",
       "   Miss  Mrs  Master  \n",
       "0     0    0       0  \n",
       "1     0    1       0  \n",
       "2     1    0       0  "
      ]
     },
     "execution_count": 5,
     "metadata": {},
     "output_type": "execute_result"
    }
   ],
   "source": [
    "X.head(3)"
   ]
  },
  {
   "cell_type": "code",
   "execution_count": 6,
   "metadata": {},
   "outputs": [
    {
     "data": {
      "text/html": [
       "<div>\n",
       "<style scoped>\n",
       "    .dataframe tbody tr th:only-of-type {\n",
       "        vertical-align: middle;\n",
       "    }\n",
       "\n",
       "    .dataframe tbody tr th {\n",
       "        vertical-align: top;\n",
       "    }\n",
       "\n",
       "    .dataframe thead th {\n",
       "        text-align: right;\n",
       "    }\n",
       "</style>\n",
       "<table border=\"1\" class=\"dataframe\">\n",
       "  <thead>\n",
       "    <tr style=\"text-align: right;\">\n",
       "      <th></th>\n",
       "      <th>Age</th>\n",
       "      <th>Embarked</th>\n",
       "      <th>Fare</th>\n",
       "      <th>Parch</th>\n",
       "      <th>Pclass</th>\n",
       "      <th>Sex_code</th>\n",
       "      <th>SibSp</th>\n",
       "      <th>FamilySize</th>\n",
       "      <th>Mr</th>\n",
       "      <th>Miss</th>\n",
       "      <th>Mrs</th>\n",
       "      <th>Master</th>\n",
       "    </tr>\n",
       "  </thead>\n",
       "  <tbody>\n",
       "    <tr>\n",
       "      <th>0</th>\n",
       "      <td>34.5</td>\n",
       "      <td>1</td>\n",
       "      <td>7.8292</td>\n",
       "      <td>0</td>\n",
       "      <td>3</td>\n",
       "      <td>1</td>\n",
       "      <td>0</td>\n",
       "      <td>0</td>\n",
       "      <td>1</td>\n",
       "      <td>0</td>\n",
       "      <td>0</td>\n",
       "      <td>0</td>\n",
       "    </tr>\n",
       "    <tr>\n",
       "      <th>1</th>\n",
       "      <td>47.0</td>\n",
       "      <td>2</td>\n",
       "      <td>7.0000</td>\n",
       "      <td>0</td>\n",
       "      <td>3</td>\n",
       "      <td>0</td>\n",
       "      <td>1</td>\n",
       "      <td>1</td>\n",
       "      <td>0</td>\n",
       "      <td>0</td>\n",
       "      <td>1</td>\n",
       "      <td>0</td>\n",
       "    </tr>\n",
       "    <tr>\n",
       "      <th>2</th>\n",
       "      <td>62.0</td>\n",
       "      <td>1</td>\n",
       "      <td>9.6875</td>\n",
       "      <td>0</td>\n",
       "      <td>2</td>\n",
       "      <td>1</td>\n",
       "      <td>0</td>\n",
       "      <td>0</td>\n",
       "      <td>1</td>\n",
       "      <td>0</td>\n",
       "      <td>0</td>\n",
       "      <td>0</td>\n",
       "    </tr>\n",
       "  </tbody>\n",
       "</table>\n",
       "</div>"
      ],
      "text/plain": [
       "    Age  Embarked    Fare  Parch  Pclass  Sex_code  SibSp  FamilySize  Mr  \\\n",
       "0  34.5         1  7.8292      0       3         1      0           0   1   \n",
       "1  47.0         2  7.0000      0       3         0      1           1   0   \n",
       "2  62.0         1  9.6875      0       2         1      0           0   1   \n",
       "\n",
       "   Miss  Mrs  Master  \n",
       "0     0    0       0  \n",
       "1     0    1       0  \n",
       "2     0    0       0  "
      ]
     },
     "execution_count": 6,
     "metadata": {},
     "output_type": "execute_result"
    }
   ],
   "source": [
    "Xt.head(3)"
   ]
  },
  {
   "cell_type": "code",
   "execution_count": null,
   "metadata": {},
   "outputs": [],
   "source": []
  },
  {
   "cell_type": "markdown",
   "metadata": {},
   "source": [
    "# Test Accuracy of each feature with respect to our Predictor"
   ]
  },
  {
   "cell_type": "code",
   "execution_count": 7,
   "metadata": {},
   "outputs": [
    {
     "data": {
      "text/plain": [
       "Mr            0.789238\n",
       "Sex_code      0.762332\n",
       "Mrs           0.730942\n",
       "Pclass        0.699552\n",
       "Fare          0.695067\n",
       "SibSp         0.690583\n",
       "Miss          0.677130\n",
       "Embarked      0.668161\n",
       "Age           0.654709\n",
       "FamilySize    0.627803\n",
       "Master        0.623318\n",
       "Parch         0.623318\n",
       "dtype: float64"
      ]
     },
     "execution_count": 7,
     "metadata": {},
     "output_type": "execute_result"
    },
    {
     "data": {
      "image/png": "[encoded data removed]",
      "text/plain": [
       "<Figure size 432x432 with 1 Axes>"
      ]
     },
     "metadata": {
      "needs_background": "light"
     },
     "output_type": "display_data"
    }
   ],
   "source": [
    "thres = 0.68\n",
    "temp_acc = pd.Series()\n",
    "\n",
    "for c in X.columns.tolist():\n",
    "    tempX = np.array(X[c]).reshape(-1, 1)\n",
    "    XTRAIN, XTEST, YTRAIN, YTEST = train_test_split(tempX, Y)\n",
    "    my_model = LogisticRegression(solver='liblinear').fit(XTRAIN, YTRAIN)\n",
    "    model_prediction = my_model.predict(XTEST)\n",
    "    acc = accuracy_score(YTEST, model_prediction)\n",
    "    temp_acc[c] = acc\n",
    "    if acc > thres:\n",
    "        SY = my_model.predict_proba(XTEST)[:,1] # second column = probability\n",
    "        SFPR, STPR, STHRESH = roc_curve(YTEST, SY)\n",
    "        plt.plot(SFPR, STPR, label=c)\n",
    "    \n",
    "plt.plot([0,1],[0,1], label='total guess', marker='d')\n",
    "plt.xlabel(\"False Positive Rate\")\n",
    "plt.ylabel(\"True Positive Rate\")\n",
    "plt.title(\"Survival Prediction per Attribute\")\n",
    "plt.legend(loc='center left', bbox_to_anchor=(1, 0.5))\n",
    "plt.grid()\n",
    "plt.gcf().set_size_inches(6,6)\n",
    "\n",
    "temp_acc.sort_values(ascending=False)"
   ]
  },
  {
   "cell_type": "code",
   "execution_count": 8,
   "metadata": {},
   "outputs": [
    {
     "name": "stdout",
     "output_type": "stream",
     "text": [
      "Worst predictors\n"
     ]
    },
    {
     "data": {
      "text/plain": [
       "Age           0.654709\n",
       "FamilySize    0.627803\n",
       "Master        0.623318\n",
       "Parch         0.623318\n",
       "dtype: float64"
      ]
     },
     "execution_count": 8,
     "metadata": {},
     "output_type": "execute_result"
    }
   ],
   "source": [
    "print(\"Worst predictors\")\n",
    "temp_acc.sort_values(ascending=False)[8:]"
   ]
  },
  {
   "cell_type": "markdown",
   "metadata": {},
   "source": [
    "# GridSearch over the best parameters"
   ]
  },
  {
   "cell_type": "code",
   "execution_count": 124,
   "metadata": {},
   "outputs": [],
   "source": [
    "def show_grid_results(grid_search, all=True):\n",
    "    print('Best parameters:\\n', grid_search.best_params_, '\\n', grid_search.best_score_, '\\n')\n",
    "    if all:\n",
    "        cvres = grid_search.cv_results_\n",
    "        for mean_score, params in zip(cvres[\"mean_test_score\"], cvres[\"params\"]):\n",
    "            print(mean_score, params)\n",
    "        \n",
    "def horizontal_barplot(grid_search):\n",
    "    fig, ax = plt.subplots(figsize=(20,10))\n",
    "    xplot = grid_search.cv_results_['mean_test_score']\n",
    "    yplot = [str(i) for i in grid_search.cv_results_['params']]\n",
    "    ax = sns.barplot(x=xplot, y=yplot, palette=sns.light_palette(\"yellow\", n_colors=len(xplot), reverse=True))\n",
    "    # plt.ylabel(\"\")\n",
    "    plt.xlabel('Times appearing', fontsize=20)\n",
    "    plt.title('Parameters Accuracy', fontsize=25)\n",
    "    for tick in ax.xaxis.get_major_ticks():\n",
    "        tick.label.set_fontsize(20) \n",
    "    for tick in ax.yaxis.get_major_ticks():\n",
    "        tick.label.set_fontsize(20)\n",
    "    for p in ax.patches:\n",
    "        width = p.get_width()\n",
    "        ax.text(width + 3, p.get_y() + p.get_height()/1.4, \"%d\" % width, ha=\"center\", fontsize=15)\n",
    "    sns.despine()\n",
    "    # plt.savefig('img/top_words_in_songs.jpg')\n",
    "    plt.plot();"
   ]
  },
  {
   "cell_type": "code",
   "execution_count": 148,
   "metadata": {},
   "outputs": [
    {
     "name": "stdout",
     "output_type": "stream",
     "text": [
      "Best parameters:\n",
      " {'l1_ratio': 0.75, 'max_iter': 800, 'penalty': 'elasticnet', 'solver': 'saga'} \n",
      " 0.8282828282828283 \n",
      "\n",
      "0.8260381593714927 {'solver': 'liblinear'}\n",
      "0.8260381593714927 {'multi_class': 'ovr', 'penalty': 'l2', 'solver': 'newton-cg'}\n",
      "0.8249158249158249 {'multi_class': 'ovr', 'penalty': 'none', 'solver': 'newton-cg'}\n",
      "0.8260381593714927 {'multi_class': 'multinomial', 'penalty': 'l2', 'solver': 'newton-cg'}\n",
      "0.8249158249158249 {'multi_class': 'multinomial', 'penalty': 'none', 'solver': 'newton-cg'}\n",
      "0.8260381593714927 {'multi_class': 'auto', 'penalty': 'l2', 'solver': 'newton-cg'}\n",
      "0.8249158249158249 {'multi_class': 'auto', 'penalty': 'none', 'solver': 'newton-cg'}\n",
      "0.8260381593714927 {'multi_class': 'ovr', 'penalty': 'l2', 'solver': 'lbfgs'}\n",
      "0.8249158249158249 {'multi_class': 'ovr', 'penalty': 'none', 'solver': 'lbfgs'}\n",
      "0.8260381593714927 {'multi_class': 'multinomial', 'penalty': 'l2', 'solver': 'lbfgs'}\n",
      "0.8249158249158249 {'multi_class': 'multinomial', 'penalty': 'none', 'solver': 'lbfgs'}\n",
      "0.8260381593714927 {'multi_class': 'auto', 'penalty': 'l2', 'solver': 'lbfgs'}\n",
      "0.8249158249158249 {'multi_class': 'auto', 'penalty': 'none', 'solver': 'lbfgs'}\n",
      "0.8260381593714927 {'l1_ratio': 0.5, 'max_iter': 800, 'penalty': 'elasticnet', 'solver': 'saga'}\n",
      "0.8271604938271605 {'l1_ratio': 0.6, 'max_iter': 800, 'penalty': 'elasticnet', 'solver': 'saga'}\n",
      "0.8282828282828283 {'l1_ratio': 0.75, 'max_iter': 800, 'penalty': 'elasticnet', 'solver': 'saga'}\n",
      "0.8282828282828283 {'l1_ratio': 0.9, 'max_iter': 800, 'penalty': 'elasticnet', 'solver': 'saga'}\n",
      "0.8260381593714927 {'penalty': 'l2', 'solver': 'sag'}\n"
     ]
    }
   ],
   "source": [
    "from sklearn.model_selection import GridSearchCV\n",
    "param_grid = [\n",
    "    { 'solver':['liblinear'] },\n",
    "    { 'solver':['newton-cg'], 'penalty':['l2', 'none'], 'multi_class':['ovr', 'multinomial', 'auto'] },\n",
    "    { 'solver':['lbfgs'], 'penalty':['l2', 'none'], 'multi_class':['ovr', 'multinomial', 'auto'] },\n",
    "    { 'solver':['saga'], 'l1_ratio':[0.5, 0.6, 0.75, 0.9], 'max_iter':[800], 'penalty':['elasticnet'] },\n",
    "    { 'solver':['sag'], 'penalty':['l2'] }\n",
    "]\n",
    "model = LogisticRegression()\n",
    "grid_search = GridSearchCV(model, param_grid, cv=10, scoring='accuracy', return_train_score=True)\n",
    "grid_search.fit(X_scaled, Y)\n",
    "show_grid_results(grid_search)\n",
    "\n",
    "best_est = grid_search.best_estimator_\n",
    "best_score = grid_search.best_score_"
   ]
  },
  {
   "cell_type": "markdown",
   "metadata": {},
   "source": [
    "## Evaluate optional datasets with less relevant features"
   ]
  },
  {
   "cell_type": "code",
   "execution_count": 197,
   "metadata": {},
   "outputs": [],
   "source": [
    "optional_dfs = {\n",
    "#     'drop_Fare': scaler.fit_transform(X.drop(columns=['Fare'])), # 0.8260381593714927\n",
    "#     'drop_Fare_SibSp_Parch': scaler.fit_transform(X.drop(columns=['Fare', 'SibSp', 'Parch'])), # 0.8294051627384961\n",
    "    'drop_SibSp_Parch': scaler.fit_transform(X.drop(columns=['SibSp', 'Parch'])), # 0.8305274971941639\n",
    "#     'drop_SibSp_Parch_Master': scaler.fit_transform(X.drop(columns=['SibSp', 'Parch', 'Master'])), # 0.8181818181818182\n",
    "#     'drop_Parch': scaler.fit_transform(X.drop(columns=['Parch'])), # 0.8282828282828283\n",
    "#     'drop_Master': scaler.fit_transform(X.drop(columns=['Master'])), # 0.8148148148148148\n",
    "#     'drop_Parch_Master': scaler.fit_transform(X.drop(columns=['Master', 'Parch'])), # 0.8148148148148148\n",
    "#     'drop_FamilySize': scaler.fit_transform(X.drop(columns=['FamilySize'])), # 0.8282828282828283\n",
    "#     'drop_FamilySize_Master': scaler.fit_transform(X.drop(columns=['FamilySize', 'Master'])), # 0.8148148148148148\n",
    "#     'drop_FamilySize_Master_Parch': scaler.fit_transform(X.drop(columns=['FamilySize', 'Master', 'Parch'])), # 0.8159371492704826\n",
    "#     'drop_Fare_SibSp_Parch': scaler.fit_transform(X.drop(columns=['Fare', 'SibSp', 'Parch'])), # 0.8294051627384961\n",
    "#     'drop_Age': scaler.fit_transform(X.drop(columns=['Age'])), # 0.8226711560044894\n",
    "    'drop_Sex': scaler.fit_transform(X.drop(columns=['Sex_code'])), # 0.8237934904601572\n",
    "}"
   ]
  },
  {
   "cell_type": "code",
   "execution_count": 198,
   "metadata": {},
   "outputs": [
    {
     "name": "stdout",
     "output_type": "stream",
     "text": [
      "drop_SibSp_Parch\n",
      "Best parameters:\n",
      " {'l1_ratio': 0.75, 'max_iter': 800, 'penalty': 'elasticnet', 'solver': 'saga'} \n",
      " 0.8305274971941639 \n",
      "\n",
      "drop_Sex\n",
      "Best parameters:\n",
      " {'multi_class': 'ovr', 'penalty': 'l2', 'solver': 'newton-cg'} \n",
      " 0.8237934904601572 \n",
      "\n"
     ]
    }
   ],
   "source": [
    "for name, df in optional_dfs.items():\n",
    "    model = LogisticRegression()\n",
    "    grid_search = GridSearchCV(model, param_grid, cv=10, scoring='accuracy', return_train_score=True)\n",
    "    grid_search.fit(df, Y)\n",
    "    print(name)\n",
    "    show_grid_results(grid_search, all=False)\n",
    "    if grid_search.best_score_ > best_score:\n",
    "        best_score = grid_search.best_score_\n",
    "        best_est = grid_search.best_estimator_"
   ]
  },
  {
   "cell_type": "markdown",
   "metadata": {},
   "source": [
    "# Found a better score after dropping **SibSp** and **Parch**\n",
    "- Using parameters {'l1_ratio': 0.75, 'max_iter': 800, 'penalty': 'elasticnet', 'solver': 'saga'} "
   ]
  },
  {
   "cell_type": "code",
   "execution_count": 173,
   "metadata": {},
   "outputs": [],
   "source": [
    "Xbest = optional_dfs['drop_SibSp_Parch']\n",
    "Xtbest = scaler.fit_transform(Xt.drop(columns=['SibSp', 'Parch']))"
   ]
  },
  {
   "cell_type": "code",
   "execution_count": null,
   "metadata": {},
   "outputs": [],
   "source": []
  },
  {
   "cell_type": "code",
   "execution_count": 174,
   "metadata": {},
   "outputs": [
    {
     "data": {
      "text/plain": [
       "LogisticRegression(C=1.0, class_weight=None, dual=False, fit_intercept=True,\n",
       "                   intercept_scaling=1, l1_ratio=0.75, max_iter=800,\n",
       "                   multi_class='warn', n_jobs=None, penalty='elasticnet',\n",
       "                   random_state=None, solver='saga', tol=0.0001, verbose=0,\n",
       "                   warm_start=False)"
      ]
     },
     "execution_count": 174,
     "metadata": {},
     "output_type": "execute_result"
    }
   ],
   "source": [
    "best_model = best_est\n",
    "best_model"
   ]
  },
  {
   "cell_type": "markdown",
   "metadata": {},
   "source": [
    "\n",
    "<img src='https://cdn-images-1.medium.com/max/1200/1*uR09zTlPgIj5PvMYJZScVg.png' style='width:400px;'>"
   ]
  },
  {
   "cell_type": "code",
   "execution_count": 182,
   "metadata": {},
   "outputs": [
    {
     "data": {
      "image/png": "[encoded data removed]",
      "text/plain": [
       "<Figure size 432x432 with 1 Axes>"
      ]
     },
     "metadata": {
      "needs_background": "light"
     },
     "output_type": "display_data"
    }
   ],
   "source": [
    "XTRAIN, XTEST, YTRAIN, YTEST = train_test_split(Xbest, Y)\n",
    "SY = best_model.predict_proba(XTEST)[:,1] # second column = probability\n",
    "SFPR, STPR, STHRESH = roc_curve(YTEST, SY)\n",
    "YP = best_model.predict(XTEST)\n",
    "cm = confusion_matrix(YTEST, YP)\n",
    "f1score = f1_score(YTEST, YP)\n",
    "plt.plot(SFPR, STPR, label='Best LogisticRegressor')\n",
    "plt.plot([0,1],[0,1], label='total guess', marker='d')\n",
    "plt.xlabel(\"False Positive Rate\", fontsize=15)\n",
    "plt.ylabel(\"True Positive Rate\", fontsize=15)\n",
    "plt.title(\"Survival Prediction\\nF1 Score = \"+str(f1score), fontsize=20)\n",
    "plt.legend(loc='center left', bbox_to_anchor=(1, 0.5))\n",
    "plt.grid()\n",
    "plt.gcf().set_size_inches(6,6)"
   ]
  },
  {
   "cell_type": "code",
   "execution_count": 183,
   "metadata": {},
   "outputs": [
    {
     "data": {
      "text/html": [
       "<div>\n",
       "<style scoped>\n",
       "    .dataframe tbody tr th:only-of-type {\n",
       "        vertical-align: middle;\n",
       "    }\n",
       "\n",
       "    .dataframe tbody tr th {\n",
       "        vertical-align: top;\n",
       "    }\n",
       "\n",
       "    .dataframe thead th {\n",
       "        text-align: right;\n",
       "    }\n",
       "</style>\n",
       "<table border=\"1\" class=\"dataframe\">\n",
       "  <thead>\n",
       "    <tr style=\"text-align: right;\">\n",
       "      <th></th>\n",
       "      <th>Survived</th>\n",
       "      <th>Not</th>\n",
       "    </tr>\n",
       "  </thead>\n",
       "  <tbody>\n",
       "    <tr>\n",
       "      <th>Survived</th>\n",
       "      <td>112</td>\n",
       "      <td>16</td>\n",
       "    </tr>\n",
       "    <tr>\n",
       "      <th>Not</th>\n",
       "      <td>20</td>\n",
       "      <td>75</td>\n",
       "    </tr>\n",
       "  </tbody>\n",
       "</table>\n",
       "</div>"
      ],
      "text/plain": [
       "          Survived  Not\n",
       "Survived       112   16\n",
       "Not             20   75"
      ]
     },
     "execution_count": 183,
     "metadata": {},
     "output_type": "execute_result"
    }
   ],
   "source": [
    "dfcm = pd.DataFrame(cm, columns=[\"Survived\", \"Not\"]).set_index( pd.Index(['Survived', 'Not']) )\n",
    "dfcm"
   ]
  },
  {
   "cell_type": "code",
   "execution_count": 184,
   "metadata": {},
   "outputs": [
    {
     "name": "stdout",
     "output_type": "stream",
     "text": [
      "F1 SCORE:\t 0.8064516129032259\n"
     ]
    },
    {
     "data": {
      "image/png": "[encoded data removed]",
      "text/plain": [
       "<Figure size 576x432 with 2 Axes>"
      ]
     },
     "metadata": {
      "needs_background": "light"
     },
     "output_type": "display_data"
    }
   ],
   "source": [
    "print('F1 SCORE:\\t', f1score)\n",
    "plot_confusion_matrix(cm, target_names=['Survived', 'Not'], normalize=True)"
   ]
  },
  {
   "cell_type": "code",
   "execution_count": null,
   "metadata": {},
   "outputs": [],
   "source": []
  },
  {
   "cell_type": "markdown",
   "metadata": {},
   "source": [
    "# Predict the test data"
   ]
  },
  {
   "cell_type": "code",
   "execution_count": 186,
   "metadata": {},
   "outputs": [],
   "source": [
    "Yt = best_model.predict(Xtbest).astype(int)"
   ]
  },
  {
   "cell_type": "code",
   "execution_count": null,
   "metadata": {},
   "outputs": [],
   "source": []
  },
  {
   "cell_type": "code",
   "execution_count": 187,
   "metadata": {},
   "outputs": [
    {
     "data": {
      "text/plain": [
       "(418, 2)"
      ]
     },
     "execution_count": 187,
     "metadata": {},
     "output_type": "execute_result"
    }
   ],
   "source": [
    "output = pd.concat([datatest['PassengerId'], pd.Series(Yt)], axis=1)\n",
    "output.columns=['PassengerId', 'Survived']\n",
    "output.shape"
   ]
  },
  {
   "cell_type": "code",
   "execution_count": 188,
   "metadata": {},
   "outputs": [
    {
     "data": {
      "text/html": [
       "<div>\n",
       "<style scoped>\n",
       "    .dataframe tbody tr th:only-of-type {\n",
       "        vertical-align: middle;\n",
       "    }\n",
       "\n",
       "    .dataframe tbody tr th {\n",
       "        vertical-align: top;\n",
       "    }\n",
       "\n",
       "    .dataframe thead th {\n",
       "        text-align: right;\n",
       "    }\n",
       "</style>\n",
       "<table border=\"1\" class=\"dataframe\">\n",
       "  <thead>\n",
       "    <tr style=\"text-align: right;\">\n",
       "      <th></th>\n",
       "      <th>PassengerId</th>\n",
       "      <th>Survived</th>\n",
       "    </tr>\n",
       "  </thead>\n",
       "  <tbody>\n",
       "    <tr>\n",
       "      <th>413</th>\n",
       "      <td>1305</td>\n",
       "      <td>0</td>\n",
       "    </tr>\n",
       "    <tr>\n",
       "      <th>414</th>\n",
       "      <td>1306</td>\n",
       "      <td>1</td>\n",
       "    </tr>\n",
       "    <tr>\n",
       "      <th>415</th>\n",
       "      <td>1307</td>\n",
       "      <td>0</td>\n",
       "    </tr>\n",
       "    <tr>\n",
       "      <th>416</th>\n",
       "      <td>1308</td>\n",
       "      <td>0</td>\n",
       "    </tr>\n",
       "    <tr>\n",
       "      <th>417</th>\n",
       "      <td>1309</td>\n",
       "      <td>1</td>\n",
       "    </tr>\n",
       "  </tbody>\n",
       "</table>\n",
       "</div>"
      ],
      "text/plain": [
       "     PassengerId  Survived\n",
       "413         1305         0\n",
       "414         1306         1\n",
       "415         1307         0\n",
       "416         1308         0\n",
       "417         1309         1"
      ]
     },
     "execution_count": 188,
     "metadata": {},
     "output_type": "execute_result"
    }
   ],
   "source": [
    "output.tail()"
   ]
  },
  {
   "cell_type": "code",
   "execution_count": null,
   "metadata": {},
   "outputs": [],
   "source": []
  },
  {
   "cell_type": "code",
   "execution_count": 189,
   "metadata": {},
   "outputs": [],
   "source": [
    "import datetime\n",
    "date = datetime.datetime.now()\n",
    "_result_file = './results/result_'+date.strftime(\"%b-%d %H %M %S\")\n",
    "output.to_csv(_result_file+str('.csv'), index=False)"
   ]
  },
  {
   "cell_type": "code",
   "execution_count": null,
   "metadata": {},
   "outputs": [],
   "source": []
  },
  {
   "cell_type": "code",
   "execution_count": null,
   "metadata": {},
   "outputs": [],
   "source": []
  },
  {
   "cell_type": "code",
   "execution_count": null,
   "metadata": {},
   "outputs": [],
   "source": []
  },
  {
   "cell_type": "markdown",
   "metadata": {},
   "source": [
    "# Kaggle Score 0.79425\n",
    "\n",
    "- Columns used\n",
    "    - Age\tEmbarked\tFare\tParch\tPclass\tSex_code\tSibSp\tFamilySize\tMr\tMiss\tMrs\tMaster\n",
    "- Fill NAs of **Age**, **Fare** and **Embarked** with mode\n",
    "- Logistic Regression {'solver': 'liblinear'} "
   ]
  },
  {
   "cell_type": "markdown",
   "metadata": {},
   "source": [
    "# Kaggle Score 0.79904\n",
    "\n",
    "- Columns used\n",
    "    - Age\tEmbarked\tFare\tParch\tPclass\tSex_code\tSibSp\tFamilySize\tMr\tMiss\tMrs\tMaster\n",
    "- Fill NAs of **Age**, **Fare** and **Embarked** with mode\n",
    "- Logistic Regression {'l1_ratio': 0.75, 'max_iter': 800, 'penalty': 'elasticnet', 'solver': 'saga'} "
   ]
  },
  {
   "cell_type": "markdown",
   "metadata": {},
   "source": [
    "# Kaggle Score 0.80382\n",
    "\n",
    "- Columns used\n",
    "    - Age\tEmbarked\tFare\tPclass\tSex_code\tFamilySize\tMr\tMiss\tMrs\tMaster\n",
    "- Fill NAs of **Age**, **Fare** and **Embarked** with mode\n",
    "- Logistic Regression {'l1_ratio': 0.75, 'max_iter': 800, 'penalty': 'elasticnet', 'solver': 'saga'} "
   ]
  },
  {
   "cell_type": "code",
   "execution_count": null,
   "metadata": {},
   "outputs": [],
   "source": []
  },
  {
   "cell_type": "code",
   "execution_count": null,
   "metadata": {},
   "outputs": [],
   "source": []
  },
  {
   "cell_type": "code",
   "execution_count": null,
   "metadata": {},
   "outputs": [],
   "source": []
  },
  {
   "cell_type": "markdown",
   "metadata": {},
   "source": [
    "# Submitting the gender_submission.csv file gives a 0.76555 score"
   ]
  },
  {
   "cell_type": "code",
   "execution_count": null,
   "metadata": {},
   "outputs": [],
   "source": []
  },
  {
   "cell_type": "markdown",
   "metadata": {},
   "source": [
    "## Submitting the pclass_submission.csv file gives 0.58851 score\n",
    "### Will only survive if pclass is 1 or 2"
   ]
  },
  {
   "cell_type": "code",
   "execution_count": null,
   "metadata": {},
   "outputs": [],
   "source": [
    "# some_y = [ 0 if pclass > 2 else 1 for pclass in datatest['Pclass'] ]"
   ]
  },
  {
   "cell_type": "code",
   "execution_count": null,
   "metadata": {},
   "outputs": [],
   "source": [
    "# some_output = pd.concat([datatest['PassengerId'], pd.Series(some_y)], axis=1)\n",
    "# some_output.columns=['PassengerId', 'Survived']\n",
    "# some_output.to_csv('./results/pclass_submission.csv', index=False)"
   ]
  },
  {
   "cell_type": "markdown",
   "metadata": {},
   "source": []
  },
  {
   "cell_type": "code",
   "execution_count": null,
   "metadata": {},
   "outputs": [],
   "source": []
  },
  {
   "cell_type": "code",
   "execution_count": null,
   "metadata": {},
   "outputs": [],
   "source": []
  },
  {
   "cell_type": "code",
   "execution_count": null,
   "metadata": {},
   "outputs": [],
   "source": []
  },
  {
   "cell_type": "code",
   "execution_count": null,
   "metadata": {},
   "outputs": [],
   "source": []
  }
 ],
 "metadata": {
  "kernelspec": {
   "display_name": "Python 3",
   "language": "python",
   "name": "python3"
  },
  "language_info": {
   "codemirror_mode": {
    "name": "ipython",
    "version": 3
   },
   "file_extension": ".py",
   "mimetype": "text/x-python",
   "name": "python",
   "nbconvert_exporter": "python",
   "pygments_lexer": "ipython3",
   "version": "3.7.2"
  }
 },
 "nbformat": 4,
 "nbformat_minor": 2
}
